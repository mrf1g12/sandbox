{
  "metadata": {
    "kernelspec": {
      "name": "python",
      "display_name": "Python (Pyodide)",
      "language": "python"
    },
    "language_info": {
      "codemirror_mode": {
        "name": "python",
        "version": 3
      },
      "file_extension": ".py",
      "mimetype": "text/x-python",
      "name": "python",
      "nbconvert_exporter": "python",
      "pygments_lexer": "ipython3",
      "version": "3.8"
    },
    "widgets": {
      "application/vnd.jupyter.widget-state+json": {
        "state": {},
        "version_major": 2,
        "version_minor": 0
      }
    }
  },
  "nbformat_minor": 5,
  "nbformat": 4,
  "cells": [
    {
      "id": "ec063d1b-1412-4311-8003-8aaff2b76804",
      "cell_type": "code",
      "source": "import numpy as np\n\nfrom scipy.stats import norm, chi2, t\n\nimport matplotlib.pyplot as plt\n%matplotlib inline",
      "metadata": {
        "trusted": true
      },
      "outputs": [],
      "execution_count": null
    },
    {
      "id": "96290f09-59c1-466a-9c3b-de515d3baa92",
      "cell_type": "code",
      "source": "",
      "metadata": {
        "trusted": true
      },
      "outputs": [],
      "execution_count": null
    },
    {
      "id": "4af76b28-308b-4ef6-bf23-2c50fc779696",
      "cell_type": "markdown",
      "source": "# Distribuzione $t$ di Student",
      "metadata": {}
    },
    {
      "id": "93ad5d49-3876-46b6-bd9b-3764310f236f",
      "cell_type": "markdown",
      "source": "Estraiamo $N$ valori da una distribuzione **gaussiana** con valore medio vero $\\mu$ e deviazione standard $\\sigma$.\n\nCalcoliamo *dai dati* il valor medio e la deviazione standard **stimati**:\n$$\n\\overline{z}=\\frac{1}{N}\\sum_{i=1}^N z_i, \\qquad\\quad s_z=\\sqrt{\\frac{1}{N-1}\\sum_{i=1}^N(z_i-\\overline{z})^2}\n$$",
      "metadata": {}
    },
    {
      "id": "ffa4594b-6265-430b-a316-57b92e44caff",
      "cell_type": "markdown",
      "source": "La deviazione standard **stimata** della media $\\overline{z}$ è\n$$\ns_{\\overline{z}}=\\frac{s_z}{\\sqrt{N}}.\n$$",
      "metadata": {}
    },
    {
      "id": "e3609fa6-8cc3-419f-a05c-03dfde85b21f",
      "cell_type": "markdown",
      "source": "Con $\\overline{z}$ e $s_{\\overline{z}}$ costruiamo una nuova variabile\n$$\nt=\\frac{\\overline{z}-\\mu}{s_{\\overline{z}}}=\\frac{\\overline{z}-\\mu}{\\frac{s}{\\sqrt{N}}}.\n$$\nEsaminiamo empiricamente come si distribuisce la variabile casuale $t$ costruita estrando $Rep=5000$ volte sequenze di 5 variabili gaussiane $z$. Le $z$ sono estratte da una gaussiana di media vera $\\mu=5$.",
      "metadata": {}
    },
    {
      "id": "0e925c33-bb77-4d8d-a73a-7f338b41f6c5",
      "cell_type": "code",
      "source": "Rep = 5000\nN = 5\nmu = 5",
      "metadata": {
        "trusted": true
      },
      "outputs": [],
      "execution_count": null
    },
    {
      "id": "6ec7cdf8-57a2-455e-aa64-85029d270fcc",
      "cell_type": "code",
      "source": "zvalues = np.loadtxt('./data/zvalues.csv',delimiter=',')",
      "metadata": {
        "trusted": true
      },
      "outputs": [],
      "execution_count": null
    },
    {
      "id": "aeb78678-e731-4018-aa78-449ca15e957d",
      "cell_type": "code",
      "source": "zbar = zvalues.mean(axis=1)\ns_z = zvalues.std(axis=1,ddof=1)",
      "metadata": {
        "trusted": true
      },
      "outputs": [],
      "execution_count": null
    },
    {
      "id": "6a4ac548-d482-4f22-ae55-e23e3423859d",
      "cell_type": "code",
      "source": "s_zbar = s_z/np.sqrt(N)",
      "metadata": {
        "trusted": true
      },
      "outputs": [],
      "execution_count": null
    },
    {
      "id": "779bb683-2c53-49fc-b912-d960d5fe2c62",
      "cell_type": "code",
      "source": "t_values = (zbar-mu)/s_zbar",
      "metadata": {
        "trusted": true
      },
      "outputs": [],
      "execution_count": null
    },
    {
      "id": "7ff0ad01-219a-493b-9e6c-ad1ea079c53c",
      "cell_type": "code",
      "source": "",
      "metadata": {
        "trusted": true
      },
      "outputs": [],
      "execution_count": null
    },
    {
      "id": "deea0b83-7134-4b95-8589-90f0858e3e38",
      "cell_type": "markdown",
      "source": "Costruiamo l'istogramma dei valori di $t$",
      "metadata": {}
    },
    {
      "id": "2d45fd1c-909e-4c0c-8623-900802cb596b",
      "cell_type": "code",
      "source": "width = 0.5\nbins = np.arange(-4.5,5.,width)",
      "metadata": {
        "trusted": true
      },
      "outputs": [],
      "execution_count": null
    },
    {
      "id": "222298d5-4223-43be-b391-e56fb0abba5e",
      "cell_type": "code",
      "source": "Oi, bins = np.histogram(t_values,bins=bins)\nprint(Oi)",
      "metadata": {
        "trusted": true
      },
      "outputs": [],
      "execution_count": null
    },
    {
      "id": "ab2ca8d0-fee7-4eb1-ae19-34eb840e96e1",
      "cell_type": "code",
      "source": "center_bins = np.sum(np.vstack([bins[:-1],bins[1:]]),axis=0)/2.\nprint(center_bins)",
      "metadata": {
        "trusted": true
      },
      "outputs": [],
      "execution_count": null
    },
    {
      "id": "f138d928-4a3d-47a6-9988-9a2b95bf65e2",
      "cell_type": "code",
      "source": "fig,ax = plt.subplots()\n\nax.bar(center_bins,Oi,width=0.5,alpha=0.6,ec='k',lw=0.5)",
      "metadata": {
        "trusted": true
      },
      "outputs": [],
      "execution_count": null
    },
    {
      "id": "2122e9b6-e19d-4408-9078-881bcfd77ee4",
      "cell_type": "markdown",
      "source": "Con un test del $\\chi^2$ valutiamo se la distribuzione empirica di $t$ è **gaussiana**.",
      "metadata": {}
    },
    {
      "id": "e68fb943-dadb-4f50-b9de-34a5f2d87115",
      "cell_type": "code",
      "source": "tran = np.arange(-5,5,.05)",
      "metadata": {
        "trusted": true
      },
      "outputs": [],
      "execution_count": null
    },
    {
      "id": "c7f701c2-1b2c-4702-ae7b-19b31398b39b",
      "cell_type": "code",
      "source": "cdfs = norm.cdf(bins)\nEi = np.diff(cdfs)*Rep",
      "metadata": {
        "trusted": true
      },
      "outputs": [],
      "execution_count": null
    },
    {
      "id": "8cdaf025-a508-48c1-9024-0cb27bd9864a",
      "cell_type": "code",
      "source": "",
      "metadata": {
        "trusted": true
      },
      "outputs": [],
      "execution_count": null
    },
    {
      "id": "954d1981-72c9-4f6f-9023-2f65d5400202",
      "cell_type": "code",
      "source": "fig,ax = plt.subplots()\n\nax.bar(center_bins,Oi,width=0.5,alpha=0.6,ec='k',lw=0.5)\nax.scatter(center_bins,Ei,c='k')\nax.plot(tran,Rep*width*norm.pdf(tran),c='k',lw=1,label='Gauss')\n\nax.legend(loc='upper right')",
      "metadata": {
        "trusted": true
      },
      "outputs": [],
      "execution_count": null
    },
    {
      "id": "84aadb62-c87c-47b8-bc7e-21593c01db03",
      "cell_type": "code",
      "source": "chisq = np.sum((Oi-Ei)**2/Ei)\nprint(chisq)",
      "metadata": {
        "trusted": true
      },
      "outputs": [],
      "execution_count": null
    },
    {
      "id": "a7ca9b6c-2276-42af-82b3-0869925a2356",
      "cell_type": "code",
      "source": "1-chi2.cdf(chisq,len(Oi)-2)",
      "metadata": {
        "trusted": true
      },
      "outputs": [],
      "execution_count": null
    },
    {
      "id": "94080c4b-a0bb-4197-a2da-37ae221d2a18",
      "cell_type": "markdown",
      "source": "La variabile casuale $t$ **non è** distribuita come una gaussiana.\n\nLa distribuzione seguita da $t$ è quella di **Student**\n$$\n\\textup{PDF}(t;D)= T_D\\left(1+\\frac{t^2}{D}\\right)^{-\\frac{D+1}{2}},\n$$\ndove $D$ è il numero di **gradi di libertà** della distribuzione di $t$.\n\nNel nostro caso: $D=N-1$ perché abbiamo ricavato dai dati il parametro $s_z$.",
      "metadata": {}
    },
    {
      "id": "7b438dec-d38f-4104-a2a6-bc3093434fae",
      "cell_type": "code",
      "source": "cdfs_t = t.cdf(bins,N-1)\nEi_t = np.diff(cdfs_t)*Rep",
      "metadata": {
        "trusted": true
      },
      "outputs": [],
      "execution_count": null
    },
    {
      "id": "fec24c7c-20fc-40d4-8540-655694fcc799",
      "cell_type": "code",
      "source": "fig,ax = plt.subplots()\n\nax.bar(center_bins,Oi,width=0.5,alpha=0.6,ec='k',lw=0.5)\n\nax.plot(tran,Rep*width*norm.pdf(tran),c='k',label='Gauss')\n\nax.scatter(center_bins,Ei_t,c='r')\nax.plot(tran,Rep*width*t.pdf(tran,N-1),c='r',label='Student')\n\nax.legend(loc='upper right')",
      "metadata": {
        "trusted": true
      },
      "outputs": [],
      "execution_count": null
    },
    {
      "id": "c83cdc86-61b5-41e1-be9d-3ac9ee359b14",
      "cell_type": "code",
      "source": "chisq_t = np.sum((Oi-Ei_t)**2/Ei_t)\nprint(chisq_t)",
      "metadata": {
        "trusted": true
      },
      "outputs": [],
      "execution_count": null
    },
    {
      "id": "2b1d767a-7d9d-45e4-af52-777cad41121d",
      "cell_type": "code",
      "source": "1-chi2.cdf(chisq_t,len(Oi)-3)",
      "metadata": {
        "trusted": true
      },
      "outputs": [],
      "execution_count": null
    },
    {
      "id": "94284f66-2d1c-41fd-bf49-cf0fe97bf2c7",
      "cell_type": "code",
      "source": "",
      "metadata": {
        "trusted": true
      },
      "outputs": [],
      "execution_count": null
    },
    {
      "id": "66863906-1d8f-4d6e-808a-7eb91a2d20e5",
      "cell_type": "markdown",
      "source": "La distribuzione di $t$ varia al variare dei **gradi di libertà**",
      "metadata": {}
    },
    {
      "id": "4bd4a14a-877f-438c-b788-6c01119121fc",
      "cell_type": "code",
      "source": "Ran = [1,2,3,5,6,7,10,12,15,20, 25, 30]\nNmax = len(Ran)\nchiran = np.arange(0,30,0.05)\ncolors = plt.cm.Reds(np.linspace(0.2,1,Nmax))",
      "metadata": {
        "trusted": true
      },
      "outputs": [],
      "execution_count": null
    },
    {
      "id": "9b95ba71-6b59-4bad-af50-48eef7f98ff4",
      "cell_type": "code",
      "source": "fig,ax = plt.subplots()\n\nax.set_ylim(-.03,.45)\nax.set_xlabel('$t$',fontsize=12)\nax.set_ylabel('PDF',fontsize=12)\n\nfor i,n in enumerate(Ran):\n    ax.plot(tran,t.pdf(tran,n),c=colors[i],lw=2,label='{}'.format(n))\n\nax.plot(tran,norm.pdf(tran),c='blue',lw=3,label='Gauss')\n\n\nax.axhline(0,c='k',lw=.5)\nax.axvline(0,c='k',lw=0.5)\nax.legend(loc='upper right',title='$n$')",
      "metadata": {
        "trusted": true
      },
      "outputs": [],
      "execution_count": null
    },
    {
      "id": "6e994af1-9c43-47ee-9099-6653d2298645",
      "cell_type": "markdown",
      "source": "# Il test di Student",
      "metadata": {}
    },
    {
      "id": "56df3332-f6f7-4fce-99e1-af710286e797",
      "cell_type": "markdown",
      "source": "Immaginiamo di aver raccolto dei dati su un nuovo dispositivo che, montato sul motore di un'automobile, ne migliora il consumo. \n\nFacciamo delle misure su $N=7$ automobili **prima** dell'installazione (gruppo di controllo) e **dopo** l'installazione. ",
      "metadata": {}
    },
    {
      "id": "b625853a-d8de-45a7-a569-42e22ec6e075",
      "cell_type": "code",
      "source": "consumi1,consumi2 = np.loadtxt('./data/consumi.csv',delimiter=',',skiprows=1,unpack=True)\nN=len(consumi1)",
      "metadata": {
        "trusted": true
      },
      "outputs": [],
      "execution_count": null
    },
    {
      "id": "b7910682-f055-43a0-88b1-51238b306409",
      "cell_type": "markdown",
      "source": "Possiamo valutare la differenza di consumi, automobile per automobile, fra dopo e prima l'installazione:",
      "metadata": {}
    },
    {
      "id": "3cac7406-0c25-467d-8698-459dd993ae93",
      "cell_type": "code",
      "source": "diff = consumi2-consumi1\ndiff_bar = diff.mean()\ns_diff = diff.std(ddof=1)\ns_diff_bar = s_diff/np.sqrt(N)",
      "metadata": {
        "trusted": true
      },
      "outputs": [],
      "execution_count": null
    },
    {
      "id": "ba142477-d176-4459-9361-149807ec3d4e",
      "cell_type": "code",
      "source": "",
      "metadata": {
        "trusted": true
      },
      "outputs": [],
      "execution_count": null
    },
    {
      "id": "f14771c0-e66e-4bde-8273-80805d4ac8f1",
      "cell_type": "markdown",
      "source": "Facciamo l'**ipotesi nulla** che il dispostivo **non modifichi** effettivamente i consumi, ma che le misurazioni fra prima e dopo differiscano solamente per fluttuazioni statistiche. \n\nSecondo l'ipotesi nulla, la **media vera** delle differenze deve quindi essere zero, $\\mu=0$. Costruiamo la variabile $t$ di Student:\n$$\nt_O = \\frac{\\overline{d}-\\mu}{s_{\\overline{d}}}=\\frac{\\overline{d}}{s_{\\overline{d}}}\n$$",
      "metadata": {}
    },
    {
      "id": "b0931e52-14c1-4f14-8ad0-4ec8a37224c6",
      "cell_type": "code",
      "source": "tO = (diff_bar-0)/s_diff_bar\nprint(tO)",
      "metadata": {
        "trusted": true
      },
      "outputs": [],
      "execution_count": null
    },
    {
      "id": "ab6eb7ad-2fd5-43ae-b548-8fa5af400709",
      "cell_type": "markdown",
      "source": "Se il dispositivo ha un impatto sui consumi, allora $\\overline{d}>0$ e anche $t_O>0$.\n\nPossiamo chiederci qual è la probabilità che $t\\geq t_O$:\n\\begin{align}\nP(t\\geq t_O)&=\\int_{t_O}^{+\\infty}\\textup{PDF}(t;\\textup{DOF})\\,dt\\\\\n&=1-\\int_{-\\infty}^{t_O}\\textup{PDF}(t;\\textup{DOF})\\,dt\\\\\n&=1-\\textup{CDF}(t_O;\\textup{DOF})\n\\end{align}\n\n- Se $P(t>t_O)>\\alpha$ allora **non possiamo rigettare** l'ipotesi nulla.\n- Se $P(t>t_O)<\\alpha$ allora **rigettiamo** l'ipotesi nulla al livello di significatività $\\alpha$.",
      "metadata": {}
    },
    {
      "id": "e7d898f8-f96b-447b-a22b-e7335f80635d",
      "cell_type": "code",
      "source": "tran = np.arange(-5,5,.01)",
      "metadata": {
        "trusted": true
      },
      "outputs": [],
      "execution_count": null
    },
    {
      "id": "58b12a00-00be-403d-905c-0a8e4a1c193a",
      "cell_type": "code",
      "source": "fig,ax = plt.subplots()\n\nax.set_xlabel('t',fontsize=12)\nax.set_ylabel('PDF',fontsize=12)\n\nax.plot(tran,t.pdf(tran,N-1),c='r',label=r'$\\mathrm{PDF}(t;6)$')\n\nax.fill_between(tran[tran>=tO],t.pdf(tran[tran>=tO],N-1),fc='r',alpha=0.3)\nax.plot([tO,tO],[0.,t.pdf(tO,N-1)],c='k')\n\nax.axhline(0,c='k',lw=0.5)\nax.axvline(0,c='k',lw=0.5)\n\nax.annotate(r\"$P(t\\geq t_O)$\",(2.5,0.01),(5.,0.15),ha='right',arrowprops=dict(arrowstyle=\"-\"),fontsize=12)\nax.annotate(r\"$t_O$\",(1.8,0.015))\n\nax.legend(loc='upper right')",
      "metadata": {
        "trusted": true
      },
      "outputs": [],
      "execution_count": null
    },
    {
      "id": "5a43c8f0-5675-4498-b7ec-4a5a4d63f850",
      "cell_type": "code",
      "source": "1-t.cdf(tO,N-1)",
      "metadata": {
        "trusted": true
      },
      "outputs": [],
      "execution_count": null
    },
    {
      "id": "dc297a16-bf70-489c-ac47-3a3234848272",
      "cell_type": "markdown",
      "source": "Se fissiamo $\\alpha=5\\%$, $P(t>t_O)<\\alpha=0.05$: **rigettiamo** l'ipotesi nulla (nessuna efficacia del dispositivo) al livello di significatività del 5%.<br>\nLa differenza è significativa e **non è dovuta al caso**. Il dispositivo aumenta la resa ($d > 0$).",
      "metadata": {}
    },
    {
      "id": "883e4a5d-632d-4b4e-a2b4-4db2e3298932",
      "cell_type": "code",
      "source": "",
      "metadata": {
        "trusted": true
      },
      "outputs": [],
      "execution_count": null
    },
    {
      "id": "3d714ce3-dcf5-404c-9424-4b7546a34612",
      "cell_type": "markdown",
      "source": "# Accelerazione di gravità",
      "metadata": {}
    },
    {
      "id": "bc78b800-e36f-4651-8723-edc13ef44c55",
      "cell_type": "markdown",
      "source": "In un esperimento si misura $N=5$ volte il periodo di piccole oscillazione in s di un pendolo semplice lungo $l=2.000\\pm0.001$ m.<br>\nI dati sono raccolti nel file `./data/periodo_pendolo.dat`.\n\nUsando la formula del periodo del pendolo semplice per piccole oscillazioni si vuole misurare l'accelerazione di gravità $g$. Dalle misure si può ricavare come miglior *stimatore* del periodo, il suo valore medio $\\overline{T}$ e calcolare\n$$\ng=4\\pi^2\\frac{l}{\\overline{T}}\n$$",
      "metadata": {}
    },
    {
      "id": "537baf2c-fae2-419e-93fc-1427a1759ea6",
      "cell_type": "markdown",
      "source": "La misura di $g$ ottenuta, è **compatibile** con il \"valore vero\"  $g^0=9.80665$ m/s$^2$?",
      "metadata": {}
    },
    {
      "id": "e00abe31-927d-4c14-a078-0d132db2e91c",
      "cell_type": "markdown",
      "source": "1) Ottenere *dai dati* il valore medio $\\overline{T}$ e la deviazione standard **stimata** sul valore medio $s_{\\overline{T}}$.\n2) Calcolare il valore di $g$ usando $\\overline{T}$ e il suo errore $s_g$ **propagando** l'errore da $s_{\\overline{T}}$ e $\\sigma_l$.\n3) Assumere l'**ipotesi nulla**: $g-g^0=0$.\n4) Il numero di misurazioni di $T$ è piccolo: $N=5$. Costruire la variabile di Student osservata\n   $$t_O=\\frac{g-g^0}{s_g}$$\n6) Il valore misurato di $g$ può in principio essere **più grande** o **più piccolo** del valore vero: dobbiamo valutare la probabilità che $$P(|t|\\geq|t_O|)=P(t\\leq-|t_O|)+P(t\\geq|t_O|)$$\n7) Usando $N-1$ gradi di libertà, cosa possiamo concludere dal test?",
      "metadata": {}
    }
  ]
}