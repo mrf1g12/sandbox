{
 "cells": [
  {
   "cell_type": "code",
   "execution_count": null,
   "id": "ec063d1b-1412-4311-8003-8aaff2b76804",
   "metadata": {},
   "outputs": [],
   "source": [
    "import numpy as np\n",
    "\n",
    "from scipy.stats import norm, chi2, t\n",
    "\n",
    "import matplotlib.pyplot as plt\n",
    "%matplotlib inline"
   ]
  },
  {
   "cell_type": "code",
   "execution_count": null,
   "id": "96290f09-59c1-466a-9c3b-de515d3baa92",
   "metadata": {},
   "outputs": [],
   "source": []
  },
  {
   "cell_type": "markdown",
   "id": "4af76b28-308b-4ef6-bf23-2c50fc779696",
   "metadata": {},
   "source": [
    "# Distribuzione $t$ di Student"
   ]
  },
  {
   "cell_type": "markdown",
   "id": "93ad5d49-3876-46b6-bd9b-3764310f236f",
   "metadata": {},
   "source": [
    "Estraiamo $N$ valori da una distribuzione **gaussiana** con valore medio vero $\\mu$ e deviazione standard $\\sigma$.\n",
    "\n",
    "Calcoliamo *dai dati* il valor medio e la deviazione standard **stimati**:\n",
    "$$\n",
    "\\overline{z}=\\frac{1}{N}\\sum_{i=1}^N z_i, \\qquad\\quad s_z=\\sqrt{\\frac{1}{N-1}\\sum_{i=1}^N(z_i-\\overline{z})^2}\n",
    "$$"
   ]
  },
  {
   "cell_type": "markdown",
   "id": "ffa4594b-6265-430b-a316-57b92e44caff",
   "metadata": {},
   "source": [
    "La deviazione standard **stimata** della media $\\overline{z}$ è\n",
    "$$\n",
    "s_{\\overline{z}}=\\frac{s_z}{\\sqrt{N}}.\n",
    "$$"
   ]
  },
  {
   "cell_type": "markdown",
   "id": "e3609fa6-8cc3-419f-a05c-03dfde85b21f",
   "metadata": {},
   "source": [
    "Con $\\overline{z}$ e $s_{\\overline{z}}$ costruiamo una nuova variabile\n",
    "$$\n",
    "t=\\frac{\\overline{z}-\\mu}{s_{\\overline{z}}}=\\frac{\\overline{z}-\\mu}{\\frac{s}{\\sqrt{N}}}.\n",
    "$$\n",
    "Esaminiamo empiricamente come si distribuisce la variabile casuale $t$ costruita estrando 5000 volte sequenze di 5 variabili gaussiane $z$. Le $z$ sono estratte da una gaussiana di media vera $\\mu=5$."
   ]
  },
  {
   "cell_type": "code",
   "execution_count": null,
   "id": "6ec7cdf8-57a2-455e-aa64-85029d270fcc",
   "metadata": {},
   "outputs": [],
   "source": [
    "zvalues = np.loadtxt('./data/zvalues.csv',delimiter=',')\n",
    "zvalues.shape"
   ]
  },
  {
   "cell_type": "code",
   "execution_count": null,
   "id": "aeb78678-e731-4018-aa78-449ca15e957d",
   "metadata": {},
   "outputs": [],
   "source": [
    "zbar = zvalues.mean(axis=1)\n",
    "s_z = zvalues.std(axis=1,ddof=1)"
   ]
  },
  {
   "cell_type": "code",
   "execution_count": null,
   "id": "6a4ac548-d482-4f22-ae55-e23e3423859d",
   "metadata": {},
   "outputs": [],
   "source": [
    "s_zbar = s_z/np.sqrt(N)"
   ]
  },
  {
   "cell_type": "code",
   "execution_count": null,
   "id": "779bb683-2c53-49fc-b912-d960d5fe2c62",
   "metadata": {},
   "outputs": [],
   "source": [
    "t_values = (zbar-mu)/s_zbar"
   ]
  },
  {
   "cell_type": "code",
   "execution_count": null,
   "id": "7ff0ad01-219a-493b-9e6c-ad1ea079c53c",
   "metadata": {},
   "outputs": [],
   "source": []
  },
  {
   "cell_type": "markdown",
   "id": "deea0b83-7134-4b95-8589-90f0858e3e38",
   "metadata": {},
   "source": [
    "Costruiamo l'istogramma dei valori di $t$"
   ]
  },
  {
   "cell_type": "code",
   "execution_count": null,
   "id": "2d45fd1c-909e-4c0c-8623-900802cb596b",
   "metadata": {},
   "outputs": [],
   "source": [
    "width = 0.5\n",
    "bins = np.arange(-4.5,5.,width)"
   ]
  },
  {
   "cell_type": "code",
   "execution_count": null,
   "id": "222298d5-4223-43be-b391-e56fb0abba5e",
   "metadata": {},
   "outputs": [],
   "source": [
    "Oi, bins = np.histogram(t_values,bins=bins)\n",
    "print(Oi)"
   ]
  },
  {
   "cell_type": "code",
   "execution_count": null,
   "id": "ab2ca8d0-fee7-4eb1-ae19-34eb840e96e1",
   "metadata": {},
   "outputs": [],
   "source": [
    "center_bins = np.sum(np.vstack([bins[:-1],bins[1:]]),axis=0)/2.\n",
    "print(center_bins)"
   ]
  },
  {
   "cell_type": "code",
   "execution_count": null,
   "id": "f138d928-4a3d-47a6-9988-9a2b95bf65e2",
   "metadata": {},
   "outputs": [],
   "source": [
    "fig,ax = plt.subplots()\n",
    "\n",
    "ax.bar(center_bins,Oi,width=0.5,alpha=0.6,ec='k',lw=0.5)"
   ]
  },
  {
   "cell_type": "markdown",
   "id": "2122e9b6-e19d-4408-9078-881bcfd77ee4",
   "metadata": {},
   "source": [
    "Con un test del $\\chi^2$ valutiamo se la distribuzione empirica di $t$ è **gaussiana**."
   ]
  },
  {
   "cell_type": "code",
   "execution_count": null,
   "id": "e68fb943-dadb-4f50-b9de-34a5f2d87115",
   "metadata": {},
   "outputs": [],
   "source": [
    "tran = np.arange(-5,5,.05)"
   ]
  },
  {
   "cell_type": "code",
   "execution_count": null,
   "id": "c7f701c2-1b2c-4702-ae7b-19b31398b39b",
   "metadata": {},
   "outputs": [],
   "source": [
    "cdfs = norm.cdf(bins)\n",
    "Ei = np.diff(cdfs)*Ripetizioni"
   ]
  },
  {
   "cell_type": "code",
   "execution_count": null,
   "id": "8cdaf025-a508-48c1-9024-0cb27bd9864a",
   "metadata": {},
   "outputs": [],
   "source": []
  },
  {
   "cell_type": "code",
   "execution_count": null,
   "id": "954d1981-72c9-4f6f-9023-2f65d5400202",
   "metadata": {},
   "outputs": [],
   "source": [
    "fig,ax = plt.subplots()\n",
    "\n",
    "ax.bar(center_bins,Oi,width=0.5,alpha=0.6,ec='k',lw=0.5)\n",
    "ax.scatter(center_bins,Ei,c='k')\n",
    "ax.plot(tran,Ripetizioni*width*norm.pdf(tran),c='k',lw=1,label='Gauss')\n",
    "\n",
    "ax.legend(loc='upper right')"
   ]
  },
  {
   "cell_type": "code",
   "execution_count": null,
   "id": "84aadb62-c87c-47b8-bc7e-21593c01db03",
   "metadata": {},
   "outputs": [],
   "source": [
    "chisq = np.sum((Oi-Ei)**2/Ei)\n",
    "print(chisq)"
   ]
  },
  {
   "cell_type": "code",
   "execution_count": null,
   "id": "a7ca9b6c-2276-42af-82b3-0869925a2356",
   "metadata": {},
   "outputs": [],
   "source": [
    "1-chi2.cdf(chisq,len(Oi)-2)"
   ]
  },
  {
   "cell_type": "markdown",
   "id": "94080c4b-a0bb-4197-a2da-37ae221d2a18",
   "metadata": {},
   "source": [
    "La variabile casuale $t$ **non è** distribuita come una gaussiana.\n",
    "\n",
    "La distribuzione seguita da $t$ è quella di **Student**\n",
    "$$\n",
    "\\textup{PDF}(t;D)= T_D\\left(1+\\frac{t^2}{D}\\right)^{-\\frac{D+1}{2}},\n",
    "$$\n",
    "dove $D$ è il numero di **gradi di libertà** della distribuzione di $t$.\n",
    "\n",
    "Nel nostro caso: $D=N-1$ perché abbiamo ricavato dai dati il parametro $s_z$."
   ]
  },
  {
   "cell_type": "code",
   "execution_count": null,
   "id": "7b438dec-d38f-4104-a2a6-bc3093434fae",
   "metadata": {},
   "outputs": [],
   "source": [
    "cdfs_t = t.cdf(bins,N-1)\n",
    "Ei_t = np.diff(cdfs_t)*Ripetizioni"
   ]
  },
  {
   "cell_type": "code",
   "execution_count": null,
   "id": "fec24c7c-20fc-40d4-8540-655694fcc799",
   "metadata": {},
   "outputs": [],
   "source": [
    "fig,ax = plt.subplots()\n",
    "\n",
    "ax.bar(center_bins,Oi,width=0.5,alpha=0.6,ec='k',lw=0.5)\n",
    "\n",
    "ax.plot(tran,Ripetizioni*width*norm.pdf(tran),c='k',label='Gauss')\n",
    "\n",
    "ax.scatter(center_bins,Ei_t,c='r')\n",
    "ax.plot(tran,Ripetizioni*width*t.pdf(tran,N-1),c='r',label='Student')\n",
    "\n",
    "ax.legend(loc='upper right')"
   ]
  },
  {
   "cell_type": "code",
   "execution_count": null,
   "id": "c83cdc86-61b5-41e1-be9d-3ac9ee359b14",
   "metadata": {},
   "outputs": [],
   "source": [
    "chisq_t = np.sum((Oi-Ei_t)**2/Ei_t)\n",
    "print(chisq_t)"
   ]
  },
  {
   "cell_type": "code",
   "execution_count": null,
   "id": "2b1d767a-7d9d-45e4-af52-777cad41121d",
   "metadata": {},
   "outputs": [],
   "source": [
    "1-chi2.cdf(chisq_t,len(Oi)-3)"
   ]
  },
  {
   "cell_type": "code",
   "execution_count": null,
   "id": "94284f66-2d1c-41fd-bf49-cf0fe97bf2c7",
   "metadata": {},
   "outputs": [],
   "source": []
  },
  {
   "cell_type": "markdown",
   "id": "66863906-1d8f-4d6e-808a-7eb91a2d20e5",
   "metadata": {},
   "source": [
    "La distribuzione di $t$ varia al variare dei **gradi di libertà**"
   ]
  },
  {
   "cell_type": "code",
   "execution_count": null,
   "id": "4bd4a14a-877f-438c-b788-6c01119121fc",
   "metadata": {},
   "outputs": [],
   "source": [
    "Ran = [1,2,3,5,6,7,10,12,15,20, 25, 30]\n",
    "Nmax = len(Ran)\n",
    "chiran = np.arange(0,30,0.05)\n",
    "colors = plt.cm.Reds(np.linspace(0.2,1,Nmax))"
   ]
  },
  {
   "cell_type": "code",
   "execution_count": null,
   "id": "9b95ba71-6b59-4bad-af50-48eef7f98ff4",
   "metadata": {},
   "outputs": [],
   "source": [
    "fig,ax = plt.subplots()\n",
    "\n",
    "ax.set_ylim(-.03,.45)\n",
    "ax.set_xlabel('$t$',fontsize=12)\n",
    "ax.set_ylabel('PDF',fontsize=12)\n",
    "\n",
    "for i,n in enumerate(Ran):\n",
    "    ax.plot(tran,t.pdf(tran,n),c=colors[i],lw=2,label='{}'.format(n))\n",
    "\n",
    "ax.plot(tran,norm.pdf(tran),c='blue',lw=3,label='Gauss')\n",
    "\n",
    "\n",
    "ax.axhline(0,c='k',lw=.5)\n",
    "ax.axvline(0,c='k',lw=0.5)\n",
    "ax.legend(loc='upper right',title='$n$')"
   ]
  },
  {
   "cell_type": "markdown",
   "id": "6e994af1-9c43-47ee-9099-6653d2298645",
   "metadata": {},
   "source": [
    "# Il test di Student"
   ]
  },
  {
   "cell_type": "markdown",
   "id": "56df3332-f6f7-4fce-99e1-af710286e797",
   "metadata": {},
   "source": [
    "Immaginiamo di aver raccolto dei dati su un nuovo motore che migliora il consumo delle automobili. Facciamo delle misure su $N=7$ automobili **prima** dell'installazione (gruppo di controllo) e **dopo** l'installazione. "
   ]
  },
  {
   "cell_type": "code",
   "execution_count": null,
   "id": "b625853a-d8de-45a7-a569-42e22ec6e075",
   "metadata": {},
   "outputs": [],
   "source": [
    "consumi1,consumi2 = np.loadtxt('./data/consumi.csv',delimiter=',',skiprows=1,unpack=True)\n",
    "N=len(consumi1)"
   ]
  },
  {
   "cell_type": "markdown",
   "id": "b7910682-f055-43a0-88b1-51238b306409",
   "metadata": {},
   "source": [
    "Possiamo valutare la differenza di consumi, automobile per automobile, fra dopo e prima l'installazione:"
   ]
  },
  {
   "cell_type": "code",
   "execution_count": null,
   "id": "3cac7406-0c25-467d-8698-459dd993ae93",
   "metadata": {},
   "outputs": [],
   "source": [
    "diff = consumi2-consumi1\n",
    "diff_bar = diff.mean()\n",
    "s_diff = diff.std(ddof=1)\n",
    "s_diff_bar = s_diff/np.sqrt(N)"
   ]
  },
  {
   "cell_type": "code",
   "execution_count": null,
   "id": "ba142477-d176-4459-9361-149807ec3d4e",
   "metadata": {},
   "outputs": [],
   "source": []
  },
  {
   "cell_type": "markdown",
   "id": "f14771c0-e66e-4bde-8273-80805d4ac8f1",
   "metadata": {},
   "source": [
    "Facciamo l'**ipotesi nulla** che il dispostivo **non modifichi** effettivamente i consumi, ma che le misurazioni fra prima e dopo differiscano solamente per fluttuazioni statistiche. \n",
    "\n",
    "Secondo l'ipotesi nulla, la **media vera** delle differenze deve quindi essere zero, $\\mu=0$. Costruiamo la variabile $t$ di Student:\n",
    "$$\n",
    "t_O = \\frac{\\overline{d}-\\mu}{s_{\\overline{d}}}=\\frac{\\overline{d}}{s_{\\overline{d}}}\n",
    "$$"
   ]
  },
  {
   "cell_type": "code",
   "execution_count": null,
   "id": "b0931e52-14c1-4f14-8ad0-4ec8a37224c6",
   "metadata": {},
   "outputs": [],
   "source": [
    "tO = (diff_bar-0)/s_diff_bar\n",
    "print(tO)"
   ]
  },
  {
   "cell_type": "markdown",
   "id": "ab6eb7ad-2fd5-43ae-b548-8fa5af400709",
   "metadata": {},
   "source": [
    "Se il dispositivo ha un impatto sui consumi, allora $\\overline{d}>0$ e anche $t_O>0$.\n",
    "\n",
    "Possiamo chiederci qual è la probabilità che $t\\geq t_O$:\n",
    "\\begin{align}\n",
    "P(t\\geq t_O)&=\\int_{t_O}^{+\\infty}\\textup{PDF}(t;\\textup{DOF})\\,dt\\\\\n",
    "&=1-\\int_{-\\infty}^{t_O}\\textup{PDF}(t;\\textup{DOF})\\,dt\\\\\n",
    "&=1-\\textup{CDF}(t_O;\\textup{DOF})\n",
    "\\end{align}\n",
    "\n",
    "- Se $P(t>t_O)>\\alpha$ allora **non possiamo rigettare** l'ipotesi nulla.\n",
    "- Se $P(t>t_O)<\\alpha$ allora **rigettiamo** l'ipotesi nulla al livello di significatività $\\alpha$."
   ]
  },
  {
   "cell_type": "code",
   "execution_count": null,
   "id": "e7d898f8-f96b-447b-a22b-e7335f80635d",
   "metadata": {},
   "outputs": [],
   "source": [
    "tran = np.arange(-5,5,.01)"
   ]
  },
  {
   "cell_type": "code",
   "execution_count": null,
   "id": "58b12a00-00be-403d-905c-0a8e4a1c193a",
   "metadata": {},
   "outputs": [],
   "source": [
    "fig,ax = plt.subplots()\n",
    "\n",
    "ax.set_xlabel('t',fontsize=12)\n",
    "ax.set_ylabel('PDF',fontsize=12)\n",
    "\n",
    "ax.plot(tran,t.pdf(tran,N-1),c='r',label=r'$\\mathrm{PDF}(t;6)$')\n",
    "\n",
    "ax.fill_between(tran[tran>=tO],t.pdf(tran[tran>=tO],N-1),fc='r',alpha=0.3)\n",
    "ax.plot([tO,tO],[0.,t.pdf(tO,N-1)],c='k')\n",
    "\n",
    "ax.axhline(0,c='k',lw=0.5)\n",
    "ax.axvline(0,c='k',lw=0.5)\n",
    "\n",
    "ax.annotate(r\"$P(t\\geq t_O)$\",(2.5,0.01),(5.,0.15),ha='right',arrowprops=dict(arrowstyle=\"-\"),fontsize=12)\n",
    "ax.annotate(r\"$t_O$\",(1.8,0.015))\n",
    "\n",
    "ax.legend(loc='upper right')"
   ]
  },
  {
   "cell_type": "code",
   "execution_count": null,
   "id": "5a43c8f0-5675-4498-b7ec-4a5a4d63f850",
   "metadata": {},
   "outputs": [],
   "source": [
    "1-t.cdf(tO,N-1)"
   ]
  },
  {
   "cell_type": "markdown",
   "id": "dc297a16-bf70-489c-ac47-3a3234848272",
   "metadata": {},
   "source": [
    "Se fissiamo $\\alpha=5\\%$, $P(t>t_O)<\\alpha=0.05$: **rigettiamo** l'ipotesi nulla (nessuna efficacia del dispositivo) al livello di significatività del 5%.<br>\n",
    "La differenza è significativa e non è dovuta al caso. Il dispositiva aumenta la resa ($d > 0$)."
   ]
  },
  {
   "cell_type": "code",
   "execution_count": null,
   "id": "883e4a5d-632d-4b4e-a2b4-4db2e3298932",
   "metadata": {},
   "outputs": [],
   "source": []
  },
  {
   "cell_type": "markdown",
   "id": "3d714ce3-dcf5-404c-9424-4b7546a34612",
   "metadata": {},
   "source": [
    "# Accelerazione di gravità"
   ]
  },
  {
   "cell_type": "markdown",
   "id": "bc78b800-e36f-4651-8723-edc13ef44c55",
   "metadata": {},
   "source": [
    "In un esperimento si misura $N=5$ volte il periodo di piccole oscillazione in s di un pendolo semplice lungo $l=2.000\\pm0.001$ m.<br>\n",
    "I dati sono raccolti nel file `./data/periodo_pendolo.dat`.\n",
    "\n",
    "Usando la formula del periodo del pendolo semplice per piccole oscillazioni si vuole misurare l'accelerazione di gravità $g$. Dalle misure si può ricavare come miglior *stimatore* del periodo, il suo valore medio $\\overline{T}$ e calcolare\n",
    "$$\n",
    "g=4\\pi^2\\frac{l}{\\overline{T}}\n",
    "$$"
   ]
  },
  {
   "cell_type": "markdown",
   "id": "537baf2c-fae2-419e-93fc-1427a1759ea6",
   "metadata": {},
   "source": [
    "La misura di $g$ ottenuta, è **compatibile** con il \"valore vero\"  $g^0=9.80665$ m/s$^2$?"
   ]
  },
  {
   "cell_type": "markdown",
   "id": "e00abe31-927d-4c14-a078-0d132db2e91c",
   "metadata": {},
   "source": [
    "1) Ottenere *dai dati* il valore medio $\\overline{T}$ e la deviazione standard **stimata** sul valore medio $s_{\\overline{T}}$.\n",
    "2) Calcolare il valore di $g$ usando $\\overline{T}$ e il suo errore $s_g$ **propagando** l'errore da $s_{\\overline{T}}$ e $\\sigma_l$.\n",
    "3) Assumere l'**ipotesi nulla**: $g-g^0=0$.\n",
    "4) Il numero di misurazioni di $T$ è piccolo: $N=5$. Costruire la variabile di Student osservata\n",
    "   $$t_O=\\frac{g-g^0}{s_g}$$\n",
    "6) Il valore misurato di $g$ può in principio essere **più grande** o **più piccolo** del valore vero: dobbiamo valutare la probabilità che $$P(|t|\\geq|t_O|)=P(t\\leq-|t_O|)+P(t\\geq|t_O|)$$\n",
    "7) Usando $N-1$ gradi di libertà, cosa possiamo concludere dal test?"
   ]
  },
  {
   "cell_type": "code",
   "execution_count": null,
   "id": "2b75e637-ff0a-46b0-b7a1-4ad6a896f778",
   "metadata": {},
   "outputs": [],
   "source": []
  },
  {
   "cell_type": "markdown",
   "id": "b3472657-ac1d-4e74-bf96-3987299241e2",
   "metadata": {},
   "source": [
    "Il test di Student si usa quando la varianza è *stimata dai dati* tramite $s^2$.\n",
    "\n",
    "In altre situazioni possiamo avere:\n",
    "1) varianza **nota**, $\\sigma^2$,\n",
    "2) varianza stimata su campioni molto numerosi: $s^2\\underset{N\\rightarrow+\\infty}{\\longrightarrow}\\sigma^2$.\n",
    "\n",
    "In entrambi i casi, la distribuzione di $t$ diventa **gaussiana**: $t\\longrightarrow z$."
   ]
  },
  {
   "cell_type": "code",
   "execution_count": null,
   "id": "351fd83d-ac11-45cf-9308-2561cc6e683c",
   "metadata": {},
   "outputs": [],
   "source": []
  }
 ],
 "metadata": {
  "kernelspec": {
   "display_name": "Python 3 (ipykernel)",
   "language": "python",
   "name": "python3"
  },
  "language_info": {
   "codemirror_mode": {
    "name": "ipython",
    "version": 3
   },
   "file_extension": ".py",
   "mimetype": "text/x-python",
   "name": "python",
   "nbconvert_exporter": "python",
   "pygments_lexer": "ipython3",
   "version": "3.11.8"
  },
  "widgets": {
   "application/vnd.jupyter.widget-state+json": {
    "state": {},
    "version_major": 2,
    "version_minor": 0
   }
  }
 },
 "nbformat": 4,
 "nbformat_minor": 5
}
