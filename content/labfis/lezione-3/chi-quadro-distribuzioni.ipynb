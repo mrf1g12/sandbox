{
 "cells": [
  {
   "cell_type": "code",
   "execution_count": null,
   "id": "2aa75e1a-106e-478f-aeeb-0d4eaac46d61",
   "metadata": {},
   "outputs": [],
   "source": [
    "import numpy as np\n",
    "\n",
    "from scipy.stats import chi2, norm\n",
    "\n",
    "import matplotlib.pyplot as plt\n",
    "%matplotlib inline"
   ]
  },
  {
   "cell_type": "markdown",
   "id": "479477ce-1954-42fd-919f-9bc4faa3e755",
   "metadata": {},
   "source": [
    "# Test di una distribuzione"
   ]
  },
  {
   "cell_type": "code",
   "execution_count": null,
   "id": "e4fa4f6a-81c3-4e29-a1cc-b596872d26fc",
   "metadata": {},
   "outputs": [],
   "source": [
    "norm_data = np.loadtxt('./data/dati_misure.dat',unpack=True)"
   ]
  },
  {
   "cell_type": "markdown",
   "id": "37f5d8fd-2f07-475e-8e18-84d9939a171f",
   "metadata": {},
   "source": [
    "Numero totale di dati $N$:"
   ]
  },
  {
   "cell_type": "code",
   "execution_count": null,
   "id": "8ccc98c1-733a-4f53-aad3-70c98f0327d6",
   "metadata": {},
   "outputs": [],
   "source": [
    "N = len(norm_data)\n",
    "print(N)"
   ]
  },
  {
   "cell_type": "code",
   "execution_count": null,
   "id": "7ada44b0-fb4f-4ca6-a43e-29796a263283",
   "metadata": {},
   "outputs": [],
   "source": [
    "Oi, bins = np.histogram(norm_data,bins=np.arange(-2.25,2.75,.5))\n",
    "print(bins)\n",
    "print(Oi)"
   ]
  },
  {
   "cell_type": "code",
   "execution_count": null,
   "id": "6f1fb9c7-0c9a-4725-b06c-a4bffc082b0d",
   "metadata": {},
   "outputs": [],
   "source": [
    "center_bins = np.sum(np.vstack([bins[:-1],bins[1:]]),axis=0)/2.\n",
    "print(center_bins)"
   ]
  },
  {
   "cell_type": "code",
   "execution_count": null,
   "id": "b8de50cb-15d8-4367-8f64-8b85f495af99",
   "metadata": {},
   "outputs": [],
   "source": [
    "fig,ax = plt.subplots()\n",
    "\n",
    "ax.set_xlim(-3,3)\n",
    "\n",
    "ax.set_xticks(center_bins)\n",
    "ax.set_xlabel('$z$',fontsize=12)\n",
    "ax.set_ylabel(r'Conteggi $O$',fontsize=12)\n",
    "\n",
    "ax.bar(center_bins,Oi,ec='k',width=0.42,label='Dati')\n",
    "\n",
    "ax.legend(loc='upper right')"
   ]
  },
  {
   "cell_type": "markdown",
   "id": "0da2b8fd-be2e-4acd-92f3-cd8b442bb80d",
   "metadata": {},
   "source": [
    "In ogni **bin** $i$ avviene un esperimento di conteggio: il numero di conteggi $O_i$ nel bin $i$ segue una statistica **poissoniana** con\n",
    "1) **valore medio** $E_i$\n",
    "2) **deviazione standard** $\\sqrt{E_i}$\n",
    "\n",
    "dove i valori $E_i$ sono i numeri di conteggi **attesi** nel bin $i$ *se è vera* l'ipotesi nulla."
   ]
  },
  {
   "cell_type": "code",
   "execution_count": null,
   "id": "a9fe47ff-1de0-4893-b93f-c23ec30e212e",
   "metadata": {},
   "outputs": [],
   "source": []
  },
  {
   "cell_type": "markdown",
   "id": "ff0c4274-bd3e-4e6d-8a7b-f2f80d8b2adb",
   "metadata": {},
   "source": [
    "**Ipotesi nulla:** i valori conteggiati di $z$ seguono una distribuzione gaussiana di media $\\mu=0$ e $\\sigma=1$:\n",
    "\n",
    "$$\\textup{PDF}(z)=\\frac{1}{\\sqrt{2\\pi}}e^{-x^2}$$"
   ]
  },
  {
   "cell_type": "markdown",
   "id": "be38baec-1f04-425f-beb0-5d4a0b007e89",
   "metadata": {},
   "source": [
    "Il numero totale di conteggi che ci **aspettiamo** nel bin $i$ è quindi\n",
    "\n",
    "\\begin{align}\n",
    "E_i &= N\\int_{z_{i-1}}^{z_i}\\textup{PDF}(z)dz\\\\\n",
    "&= N\\left(\\int_{-\\infty}^{z_{i}}\\textup{PDF}(z)dz - \\int_{-\\infty}^{z_{i-1}}\\textup{PDF}(z)dz\\right)\\\\\n",
    "&= N\\,\\left[\\textup{CDF}(z_i)-\\textup{CDF}(z_{i-1})\\right]\n",
    "\\end{align}"
   ]
  },
  {
   "cell_type": "markdown",
   "id": "cd0fb212-72c3-4d80-84b7-4c00f4285e45",
   "metadata": {},
   "source": [
    "Se **nel bin** $O_i \\gtrsim 5$, la Poissoniana è ben approssimata da una distribuzione **Gaussiana**, quindi la variabile casuale $O_i$ è una variabile (approssimativamente) gaussiana."
   ]
  },
  {
   "cell_type": "code",
   "execution_count": null,
   "id": "35f1bc64-ff6e-4b0b-97fa-2b40d0bd4a9b",
   "metadata": {},
   "outputs": [],
   "source": [
    "cdfs = norm.cdf(bins)\n",
    "Ei = np.diff(cdfs)*N"
   ]
  },
  {
   "cell_type": "code",
   "execution_count": null,
   "id": "1a23e9c8-7da7-4500-b8b8-d24d5690ceb0",
   "metadata": {},
   "outputs": [],
   "source": [
    "fig,ax = plt.subplots()\n",
    "\n",
    "ax.set_xlim(-3,3)\n",
    "\n",
    "ax.set_xticks(center_bins)\n",
    "ax.set_xlabel('$z$',fontsize=12)\n",
    "ax.set_ylabel(r'Conteggi',fontsize=12)\n",
    "\n",
    "ax.bar(center_bins,Oi,ec='k',width=0.42,label='Osservati, $O_i$')\n",
    "ax.scatter(center_bins,Ei,c='r',label='Attesi, $E_i$')\n",
    "\n",
    "ax.legend(loc='upper right')"
   ]
  },
  {
   "cell_type": "markdown",
   "id": "b7d24f4d-a380-4315-b5ae-77986694568f",
   "metadata": {},
   "source": [
    "Possiamo valutare se i valori **attesi** $E_i$ si adattano bene ai **osservati** $O_i$ calcolando il $\\chi^2$:\n",
    "$$\n",
    "\\chi^2=\\sum_i \\frac{(O_i-E_i)^2}{E_i}\n",
    "$$"
   ]
  },
  {
   "cell_type": "code",
   "execution_count": null,
   "id": "b075d8f8-332b-4842-9889-12f0940aec22",
   "metadata": {},
   "outputs": [],
   "source": [
    "chisq = np.sum((Oi-Ei)**2/Ei)\n",
    "print(chisq)"
   ]
  },
  {
   "cell_type": "code",
   "execution_count": null,
   "id": "f9e455a0-1e9e-42c8-bbc9-33cd0247dee8",
   "metadata": {},
   "outputs": [],
   "source": [
    "1-chi2.cdf(chisq,len(Oi)-1)"
   ]
  },
  {
   "cell_type": "code",
   "execution_count": null,
   "id": "4d1ad0e6-f037-4bc7-a258-98b34d9e2587",
   "metadata": {},
   "outputs": [],
   "source": []
  },
  {
   "cell_type": "markdown",
   "id": "22bf7a5b-2710-434f-9471-7c63aa05f6be",
   "metadata": {},
   "source": [
    "# Dadi truccati?"
   ]
  },
  {
   "cell_type": "markdown",
   "id": "d45b0431-5329-4ae8-9db7-c157add328bd",
   "metadata": {},
   "source": [
    "Lanciando 1000 volte **due dadi a 6 facce** si ottiengono i 1000 risultati raccolti nel file `./data/dadi.dat`.<br>\n",
    "Usando il test statistico del $\\chi^2$ possiamo concludere che il dado è truccato?"
   ]
  },
  {
   "cell_type": "code",
   "execution_count": null,
   "id": "c6b4c93e-1a8c-4790-b280-37f58ac33e11",
   "metadata": {},
   "outputs": [],
   "source": [
    "dadi = np.loadtxt('./data/dadi.dat')"
   ]
  },
  {
   "cell_type": "code",
   "execution_count": null,
   "id": "f04ade8a-aba3-4e61-b695-794aced976cf",
   "metadata": {},
   "outputs": [],
   "source": [
    "print(len(dadi))\n",
    "print(dadi)"
   ]
  },
  {
   "cell_type": "markdown",
   "id": "848c3775-55c3-4530-a447-5b9736178908",
   "metadata": {},
   "source": [
    "1) Quali sono i risultati che si possono ottenere lanciando 2 dadi a 6 facce?\n",
    "2) Quanti sono i **conteggi osservati** $O_i$ per ciascun risultato?"
   ]
  },
  {
   "cell_type": "markdown",
   "id": "01a80226-4ade-4ba0-8ba7-e98479a11a6e",
   "metadata": {},
   "source": [
    "**Ipotesi nulla:** i due dadi non sono truccati. Ciascuna faccia ha una probabilità 1/6.\n",
    "\n",
    "3) Qual è la probabilità teorica $P_i$ di ottenere ciascun risultato usando **due dadi non truccati**?\n",
    "4) Quali sono i **conteggi attesi** $E_i$ per ciascun risultato?\n",
    "5) Usando un test del $\\chi^2$ e scegliendo una significatività $\\alpha=5\\%$, possiamo **rigettare** l'ipotesi nulla?"
   ]
  },
  {
   "cell_type": "code",
   "execution_count": null,
   "id": "62d4df02-06fd-44a9-8bf0-896937b75ec4",
   "metadata": {},
   "outputs": [],
   "source": []
  }
 ],
 "metadata": {
  "kernelspec": {
   "display_name": "Python 3 (ipykernel)",
   "language": "python",
   "name": "python3"
  },
  "language_info": {
   "codemirror_mode": {
    "name": "ipython",
    "version": 3
   },
   "file_extension": ".py",
   "mimetype": "text/x-python",
   "name": "python",
   "nbconvert_exporter": "python",
   "pygments_lexer": "ipython3",
   "version": "3.11.8"
  },
  "widgets": {
   "application/vnd.jupyter.widget-state+json": {
    "state": {},
    "version_major": 2,
    "version_minor": 0
   }
  }
 },
 "nbformat": 4,
 "nbformat_minor": 5
}
