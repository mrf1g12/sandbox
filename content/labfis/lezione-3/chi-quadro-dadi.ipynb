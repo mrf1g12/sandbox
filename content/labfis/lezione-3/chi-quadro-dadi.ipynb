{
 "cells": [
  {
   "cell_type": "code",
   "execution_count": null,
   "id": "9df4375a-60f1-4b08-b03d-cc2f8b657d24",
   "metadata": {},
   "outputs": [],
   "source": [
    "import numpy as np\n",
    "\n",
    "from scipy.stats import chi2, norm, poisson\n",
    "\n",
    "import matplotlib.pyplot as plt\n",
    "%matplotlib inline"
   ]
  },
  {
   "cell_type": "code",
   "execution_count": null,
   "id": "0849dac9-4163-488a-b2be-db402246ca0d",
   "metadata": {},
   "outputs": [],
   "source": []
  },
  {
   "cell_type": "code",
   "execution_count": null,
   "id": "8311a387-6d1f-4c21-82ce-4a4872ed99d0",
   "metadata": {},
   "outputs": [],
   "source": []
  },
  {
   "cell_type": "code",
   "execution_count": null,
   "id": "b627721e-4b7d-428e-9643-4c2c71d9f6db",
   "metadata": {},
   "outputs": [],
   "source": [
    "dadi = np.loadtxt('./data/dadi.dat')"
   ]
  },
  {
   "cell_type": "code",
   "execution_count": null,
   "id": "a40d64a5-40b8-4db3-859a-304051292755",
   "metadata": {},
   "outputs": [],
   "source": [
    "N = len(dadi)\n",
    "print(dadi)"
   ]
  },
  {
   "cell_type": "code",
   "execution_count": null,
   "id": "2e0a7039-9fbf-4bb4-9060-c4e1adba3372",
   "metadata": {},
   "outputs": [],
   "source": [
    "Oi, bins = np.histogram(dadi,np.arange(1.5,13))\n",
    "center_bins = np.arange(2,13)\n",
    "print(center_bins)"
   ]
  },
  {
   "cell_type": "code",
   "execution_count": null,
   "id": "c61ae04c-c6a3-44dc-964d-af6fc4cdcec8",
   "metadata": {},
   "outputs": [],
   "source": [
    "fig,ax = plt.subplots()\n",
    "\n",
    "ax.set_xticks(range(2,13))\n",
    "ax.set_xlabel('Risultato',fontsize=12)\n",
    "ax.set_ylabel('Conteggi',fontsize=12)\n",
    "\n",
    "ax.bar(center_bins,Oi,ec='k')"
   ]
  },
  {
   "cell_type": "markdown",
   "id": "1809195f-c7f3-41e3-bb8e-3d6cf6a85956",
   "metadata": {},
   "source": [
    "### Probabilità attese"
   ]
  },
  {
   "cell_type": "code",
   "execution_count": null,
   "id": "3926ac01-650e-412b-b4de-18c6d11814cd",
   "metadata": {},
   "outputs": [],
   "source": [
    "def somme_due_dadi(tot):\n",
    "\n",
    "    if tot < 2:\n",
    "        return []\n",
    "    elif tot > 12:\n",
    "        return []\n",
    "\n",
    "    modi = []\n",
    "    for i in range(1, 7):\n",
    "        if 1 <= tot - i <= 6:\n",
    "            modi.append((i, tot - i))\n",
    "\n",
    "    return modi"
   ]
  },
  {
   "cell_type": "code",
   "execution_count": null,
   "id": "88daf2de-5257-4a2d-bfec-50409c174cab",
   "metadata": {},
   "outputs": [],
   "source": [
    "prob = np.zeros(11)\n",
    "for i,n in enumerate(range(2,13)):\n",
    "    prob[i] = len(somme_due_dadi(n))/36.\n",
    "    print(str(somme_due_dadi(n))+'  {:.3f}'.format(prob[i]))"
   ]
  },
  {
   "cell_type": "code",
   "execution_count": null,
   "id": "1010daa3-2953-48d1-8a61-c49bed2cb38d",
   "metadata": {},
   "outputs": [],
   "source": [
    "Ei = prob*N"
   ]
  },
  {
   "cell_type": "code",
   "execution_count": null,
   "id": "4febdd7e-78a9-4eca-a5bb-315d9f2e261f",
   "metadata": {},
   "outputs": [],
   "source": [
    "fig,ax = plt.subplots()\n",
    "\n",
    "ax.set_xticks(range(2,13))\n",
    "ax.set_xlabel('Risultato',fontsize=12)\n",
    "ax.set_ylabel('Conteggi',fontsize=12)\n",
    "\n",
    "ax.bar(center_bins,Oi,ec='k',label='Osservati, $O_i$')\n",
    "ax.scatter(center_bins,Ei,c='r',label='Attesi, $E_i$')\n",
    "\n",
    "ax.legend(loc='upper right')"
   ]
  },
  {
   "cell_type": "code",
   "execution_count": null,
   "id": "c20de52f-cf33-4895-ac4d-568c9e6e2a32",
   "metadata": {},
   "outputs": [],
   "source": [
    "chisq = np.sum((Oi-Ei)**2/Oi)\n",
    "print(chisq)"
   ]
  },
  {
   "cell_type": "code",
   "execution_count": null,
   "id": "cba9e58e-901b-4431-a1a5-50c1224c54a3",
   "metadata": {},
   "outputs": [],
   "source": [
    "1-chi2.cdf(chisq,len(Oi)-1)"
   ]
  },
  {
   "cell_type": "code",
   "execution_count": null,
   "id": "fffb94dc-e5b5-4765-aec5-cd08ab8d600f",
   "metadata": {},
   "outputs": [],
   "source": []
  },
  {
   "cell_type": "code",
   "execution_count": null,
   "id": "3fb0cb22-5566-489e-9049-16045432327e",
   "metadata": {},
   "outputs": [],
   "source": []
  },
  {
   "cell_type": "markdown",
   "id": "7534c70f-357a-40e8-ac03-2226fd735466",
   "metadata": {},
   "source": [
    "# Un'altra coppia di dadi"
   ]
  },
  {
   "cell_type": "code",
   "execution_count": null,
   "id": "7c358af8-3c17-4b5e-a706-0331c4643041",
   "metadata": {},
   "outputs": [],
   "source": [
    "dadi1 = np.loadtxt('./data/dadi1.dat')"
   ]
  },
  {
   "cell_type": "code",
   "execution_count": null,
   "id": "528e513e-93ae-4efb-ad1c-4d3d922c1627",
   "metadata": {},
   "outputs": [],
   "source": [
    "N = len(dadi1)"
   ]
  },
  {
   "cell_type": "code",
   "execution_count": null,
   "id": "5eac2c94-bf59-43aa-9537-2377df591038",
   "metadata": {},
   "outputs": [],
   "source": [
    "Oi1, bins = np.histogram(dadi1,np.arange(1.5,13))\n",
    "center_bins = np.arange(2,13)\n",
    "print(center_bins)"
   ]
  },
  {
   "cell_type": "code",
   "execution_count": null,
   "id": "b06c1bda-abbf-427e-a6dc-f2d79e7020f9",
   "metadata": {},
   "outputs": [],
   "source": [
    "fig,ax = plt.subplots()\n",
    "\n",
    "ax.set_xticks(range(2,13))\n",
    "ax.set_xlabel('Risultato',fontsize=12)\n",
    "ax.set_ylabel('Conteggi',fontsize=12)\n",
    "\n",
    "ax.bar(center_bins,Oi1,ec='k')"
   ]
  },
  {
   "cell_type": "code",
   "execution_count": null,
   "id": "247861e1-0ac0-4af2-ac72-ee993e5d927a",
   "metadata": {},
   "outputs": [],
   "source": [
    "fig,ax = plt.subplots()\n",
    "\n",
    "ax.set_xticks(range(2,13))\n",
    "ax.set_xlabel('Risultato',fontsize=12)\n",
    "ax.set_ylabel('Conteggi',fontsize=12)\n",
    "\n",
    "ax.bar(center_bins,Oi1,ec='k',label='Osservati, $O_i$')\n",
    "ax.scatter(center_bins,Ei,c='r',label='Attesi, $E_i$')\n",
    "\n",
    "ax.legend(loc='upper right')"
   ]
  },
  {
   "cell_type": "code",
   "execution_count": null,
   "id": "27e1b3e5-5b7e-41a9-b80f-3b6e7257739a",
   "metadata": {},
   "outputs": [],
   "source": [
    "chisq1 = np.sum((Oi1-Ei)**2/Oi1)\n",
    "print(chisq1)"
   ]
  },
  {
   "cell_type": "code",
   "execution_count": null,
   "id": "6cc46728-c0d8-4fa9-bb8b-b998fa67ebf8",
   "metadata": {},
   "outputs": [],
   "source": [
    "1-chi2.cdf(chisq1,len(Oi1)-1)"
   ]
  },
  {
   "cell_type": "code",
   "execution_count": null,
   "id": "d957abf3-7ba8-46b4-ad18-ce7c8773f4d8",
   "metadata": {},
   "outputs": [],
   "source": []
  }
 ],
 "metadata": {
  "kernelspec": {
   "display_name": "Python 3 (ipykernel)",
   "language": "python",
   "name": "python3"
  },
  "language_info": {
   "codemirror_mode": {
    "name": "ipython",
    "version": 3
   },
   "file_extension": ".py",
   "mimetype": "text/x-python",
   "name": "python",
   "nbconvert_exporter": "python",
   "pygments_lexer": "ipython3",
   "version": "3.11.8"
  },
  "widgets": {
   "application/vnd.jupyter.widget-state+json": {
    "state": {},
    "version_major": 2,
    "version_minor": 0
   }
  }
 },
 "nbformat": 4,
 "nbformat_minor": 5
}
