{
 "cells": [
  {
   "cell_type": "code",
   "execution_count": null,
   "id": "d66b9af8-0385-466f-b675-a73f223066ac",
   "metadata": {},
   "outputs": [],
   "source": [
    "import numpy as np\n",
    "\n",
    "from scipy import optimize\n",
    "from scipy.stats import chi2, norm\n",
    "\n",
    "import matplotlib.pyplot as plt\n",
    "import matplotlib.cm as cm\n",
    "from matplotlib.ticker import (MultipleLocator, AutoMinorLocator)\n",
    "%matplotlib inline"
   ]
  },
  {
   "cell_type": "markdown",
   "id": "de67d9e6-d917-4b35-ab22-34bf5ee8dd7c",
   "metadata": {},
   "source": [
    "# Variabili $z$ e $\\chi^2$"
   ]
  },
  {
   "cell_type": "markdown",
   "id": "cd2e769d-c05b-4b1f-8d56-c9028b8baabc",
   "metadata": {},
   "source": [
    "Estraiamo $n$ numeri casuali da una distribuzione gaussiana (normale) standard, di media $\\mu_x=0$ e deviazione standard $\\sigma_x=1$ "
   ]
  },
  {
   "cell_type": "code",
   "execution_count": null,
   "id": "778cd030-4e69-4403-b570-9bc677765060",
   "metadata": {},
   "outputs": [],
   "source": [
    "n = 500\n",
    "norm_data = np.random.normal(size=n)"
   ]
  },
  {
   "cell_type": "markdown",
   "id": "0f021184-d383-4865-a9fe-5bc5df6f7a0b",
   "metadata": {},
   "source": [
    "Con `matplotlib` possiamo graficare il loro **istogramma**"
   ]
  },
  {
   "cell_type": "code",
   "execution_count": null,
   "id": "7b9ae957-73fa-4c2b-8f69-73128284fd57",
   "metadata": {},
   "outputs": [],
   "source": [
    "fig,ax = plt.subplots()\n",
    "\n",
    "ax.set_xlabel('$z$',fontsize=12)\n",
    "ax.set_ylabel('Freq.',fontsize=12)\n",
    "\n",
    "ax.hist(norm_data,bins=20,density=True)\n",
    "#ax.hist(norm_data,density=True)"
   ]
  },
  {
   "cell_type": "markdown",
   "id": "079790d0-939d-4438-b692-a554316cd036",
   "metadata": {},
   "source": [
    "Possiamo confrontare l'istogramma dei dati con la distribuzione teorica da cui sono stati estratti.<br>\n",
    "Valutiamo e plottiamo una distribuzione normale standard su un intervallo di valori fra -4 e 4. La distribuzione normale è caricata da `scipy` come `norm`, di cui vogliamo la PDF: `norm.pdf()`."
   ]
  },
  {
   "cell_type": "code",
   "execution_count": null,
   "id": "a3d5b080-bcb9-444e-8150-b0199f652f57",
   "metadata": {},
   "outputs": [],
   "source": [
    "data_ran = np.arange(-3,3,0.05)"
   ]
  },
  {
   "cell_type": "code",
   "execution_count": null,
   "id": "be63de73-7afa-4dce-8480-933ef93bfc75",
   "metadata": {},
   "outputs": [],
   "source": [
    "fig,ax = plt.subplots()\n",
    "\n",
    "ax.set_xlabel('$z$',fontsize=12)\n",
    "ax.set_ylabel('Freq.',fontsize=12)\n",
    "\n",
    "ax.hist(norm_data,bins=20,density=True,label='Dati')\n",
    "ax.plot(data_ran,norm.pdf(data_ran),lw=2,label='$\\mathcal{N}(\\mu_x,\\sigma_x)$')\n",
    "\n",
    "ax.legend(loc='upper right')"
   ]
  },
  {
   "cell_type": "markdown",
   "id": "483c1bf4-11d9-4259-a135-4f243942e935",
   "metadata": {},
   "source": [
    "Immaginiamo ora di ripetere $N$ volte questo esperimento: \n",
    "1) estraiamo $n$ numeri casuali $x_i$ da una gaussiana standard,\n",
    "2) calcoliamo la somma $z=\\sum_i^nx_i$\n",
    "   \n",
    "Sommiamo gli $N$ valori $z$ ottenuti"
   ]
  },
  {
   "cell_type": "code",
   "execution_count": null,
   "id": "7311bc1e-5474-4d1a-8f65-31de071230e4",
   "metadata": {},
   "outputs": [],
   "source": [
    "n = 10\n",
    "N = 5000"
   ]
  },
  {
   "cell_type": "code",
   "execution_count": null,
   "id": "5ce50d24-ea3b-4910-ba8a-d369d452ab2a",
   "metadata": {},
   "outputs": [],
   "source": [
    "x_arr = np.array([ np.random.normal(size=n) for i in range(N) ])\n",
    "z = np.sum(x_arr,axis=1)"
   ]
  },
  {
   "cell_type": "markdown",
   "id": "fe5278e7-33b3-42fd-b958-ffe93d57301c",
   "metadata": {},
   "source": [
    "Possiamo valutare ora come si distribuiscono gli $N$ valori $z$"
   ]
  },
  {
   "cell_type": "code",
   "execution_count": null,
   "id": "24a7029d-e5a1-42dc-8de9-f1cd160c2c76",
   "metadata": {},
   "outputs": [],
   "source": [
    "fig,ax = plt.subplots()\n",
    "\n",
    "ax.set_xlim(-12,12)\n",
    "\n",
    "ax.set_xlabel('$z$',fontsize=12)\n",
    "ax.set_ylabel('Freq.',fontsize=12)\n",
    "\n",
    "val = ax.hist(z,bins=20,density=True)"
   ]
  },
  {
   "cell_type": "markdown",
   "id": "df95fc87-805c-4c72-b7bf-93d1a9f83dc3",
   "metadata": {},
   "source": [
    "Gli $N$ valori $z=\\sum_i^n x_i$ sono distribuiti come una **variabile gaussiana** di media e varianza\n",
    "$$\n",
    "\\mu = \\sum_i^n \\mu_i,\\qquad \\sigma^2=\\sum_i^n\\sigma_z^2\n",
    "$$"
   ]
  },
  {
   "cell_type": "code",
   "execution_count": null,
   "id": "35a6c5f1-02c8-4e93-8e7c-3202f200d94e",
   "metadata": {},
   "outputs": [],
   "source": [
    "mu = 0\n",
    "sigma = np.sqrt(n)"
   ]
  },
  {
   "cell_type": "code",
   "execution_count": null,
   "id": "93be18a5-9443-4196-b20e-65c0d6053bd6",
   "metadata": {},
   "outputs": [],
   "source": [
    "data_ran2 = np.arange(z.min(),z.max(),0.1)"
   ]
  },
  {
   "cell_type": "code",
   "execution_count": null,
   "id": "bd68ec33-3b82-41d0-b0a3-ae9fb2ddcd6d",
   "metadata": {},
   "outputs": [],
   "source": [
    "fig,ax = plt.subplots()\n",
    "\n",
    "ax.set_xlim(-12,12)\n",
    "\n",
    "ax.set_xlabel('$z$',fontsize=12)\n",
    "ax.set_ylabel('Freq.',fontsize=12)\n",
    "\n",
    "val = ax.hist(z,bins=20,density=True)\n",
    "ax.plot(data_ran2,norm.pdf(data_ran2,mu,sigma),lw=2)"
   ]
  },
  {
   "cell_type": "markdown",
   "id": "c4328e4b-d142-4d90-861e-6f9542c7d0ee",
   "metadata": {},
   "source": [
    "## Il chi-quadro"
   ]
  },
  {
   "cell_type": "markdown",
   "id": "c1352526-19dc-46be-9a33-ef09350f188e",
   "metadata": {},
   "source": [
    "Valutiamo ora come si distribuiscono le **somme dei quadrati** di $x$:\n",
    "$$\n",
    "\\chi^2 = \\sum_i^n x_i^2\n",
    "$$"
   ]
  },
  {
   "cell_type": "code",
   "execution_count": null,
   "id": "9490966f-ac87-4638-a1ef-caddbe5d3a5a",
   "metadata": {},
   "outputs": [],
   "source": [
    "chi_square = np.sum(x_arr**2,axis=1)"
   ]
  },
  {
   "cell_type": "code",
   "execution_count": null,
   "id": "bf5121e0-e84d-4f7b-806d-ec39314a3658",
   "metadata": {},
   "outputs": [],
   "source": [
    "fig,ax = plt.subplots()\n",
    "\n",
    "ax.set_xlabel('$\\chi^2$',fontsize=12)\n",
    "ax.set_ylabel('Freq.',fontsize=12)\n",
    "\n",
    "ax.hist(chi_square,bins=20,density=True)"
   ]
  },
  {
   "cell_type": "markdown",
   "id": "178c184d-996c-4423-a055-cbcd91411529",
   "metadata": {},
   "source": [
    "La variabile $\\chi^2$ è una variabile aleatoria distribuita secondo una particolare distribuzione detta del **chi-quadro**:\n",
    "$$\n",
    "PDF(\\chi^2;n)=\\frac{1}{2^{n/2}\\Gamma(\\frac{n}{2})}(\\chi^2)^{n/2-1}e^{-\\chi^2/2}\n",
    "$$\n",
    "Possiamo disegnare la PDF della distribuzione chi-quadro da `scipy` come `chi2.pdf()`.<br>\n",
    "La distribuzione chi-quadro dipende dal valore $n$ che compare nella definizione di $\\chi^2=\\sum_i^nz^2$. In generale, $n$ è detto **numero di gradi di libertà**.<br>\n",
    "Nel nostro caso abbiamo quindi"
   ]
  },
  {
   "cell_type": "code",
   "execution_count": null,
   "id": "65789055-7e45-4600-a3fa-538941f04261",
   "metadata": {},
   "outputs": [],
   "source": [
    "chiran = np.arange(0,chi_square.max(),0.05)"
   ]
  },
  {
   "cell_type": "code",
   "execution_count": null,
   "id": "8c29802d-2076-4938-8b7e-6add10dc9f42",
   "metadata": {},
   "outputs": [],
   "source": [
    "fig,ax = plt.subplots()\n",
    "\n",
    "ax.set_xlabel('$\\chi^2$',fontsize=12)\n",
    "ax.set_ylabel('Freq.',fontsize=12)\n",
    "\n",
    "ax.hist(chi_square,bins=20,density=True)\n",
    "ax.plot(chiran,chi2.pdf(chiran,n),lw=2)"
   ]
  },
  {
   "cell_type": "markdown",
   "id": "06490e07-819b-4c81-856c-f077ab1ef844",
   "metadata": {},
   "source": [
    "Cambiamo il valore di $n$"
   ]
  },
  {
   "cell_type": "code",
   "execution_count": null,
   "id": "8b427698-40c0-4889-9906-71cfa6bf4274",
   "metadata": {},
   "outputs": [],
   "source": [
    "n=15\n",
    "chi_square = np.array([ np.sum(np.random.normal(size=n)**2) for i in range(N) ])"
   ]
  },
  {
   "cell_type": "code",
   "execution_count": null,
   "id": "e007772a-784d-4410-9102-3ff5227ae23e",
   "metadata": {},
   "outputs": [],
   "source": [
    "chiran = np.arange(0,chi_square.max(),0.1)"
   ]
  },
  {
   "cell_type": "code",
   "execution_count": null,
   "id": "dfeaac33-ae5c-48c9-ba9e-4305d7f006bc",
   "metadata": {},
   "outputs": [],
   "source": [
    "fig,ax = plt.subplots()\n",
    "\n",
    "ax.set_xlim(0,chi_square.max())\n",
    "\n",
    "ax.set_xlabel('$\\chi^2$',fontsize=12)\n",
    "ax.set_ylabel('Freq.',fontsize=12)\n",
    "\n",
    "ax.hist(chi_square,bins=20,density=True)\n",
    "ax.plot(chiran,chi2.pdf(chiran,n),lw=2)"
   ]
  },
  {
   "cell_type": "code",
   "execution_count": null,
   "id": "4bd4a14a-877f-438c-b788-6c01119121fc",
   "metadata": {},
   "outputs": [],
   "source": [
    "Nmax = 11\n",
    "chiran = np.arange(0,30,0.05)\n",
    "colors = plt.cm.viridis(np.linspace(0,1,Nmax))"
   ]
  },
  {
   "cell_type": "code",
   "execution_count": null,
   "id": "9b95ba71-6b59-4bad-af50-48eef7f98ff4",
   "metadata": {},
   "outputs": [],
   "source": [
    "fig,ax = plt.subplots()\n",
    "\n",
    "ax.set_ylim(-.03,.4)\n",
    "ax.set_xlabel('$\\chi^2$',fontsize=12)\n",
    "ax.set_ylabel('PDF($\\chi^2$)',fontsize=12)\n",
    "\n",
    "for n in range(1,Nmax):\n",
    "    ax.plot(chiran,chi2.pdf(chiran,n),c=colors[n],lw=2,label='{}'.format(n))\n",
    "\n",
    "ax.axhline(0,c='k',lw=.5)\n",
    "ax.legend(loc='upper right',title='$n$')"
   ]
  },
  {
   "cell_type": "markdown",
   "id": "2a6fde66-830c-45a7-9eae-35a40b309e04",
   "metadata": {},
   "source": [
    "# Bontà del fit"
   ]
  },
  {
   "cell_type": "code",
   "execution_count": null,
   "id": "56320305-7d3d-4f7b-85ac-7a6340bfbe60",
   "metadata": {},
   "outputs": [],
   "source": [
    "theta,a,a_err = np.loadtxt('./data/oscillazione.csv',delimiter = ',', skiprows = 1,unpack=True)\n",
    "theta_rad = theta*np.pi/180."
   ]
  },
  {
   "cell_type": "code",
   "execution_count": null,
   "id": "acbef438-3ea0-4a57-949a-7dae618b38a4",
   "metadata": {},
   "outputs": [],
   "source": [
    "def f(theta,a0,b0,theta0):\n",
    "    return a0*np.cos(b0*(theta+theta0))"
   ]
  },
  {
   "cell_type": "code",
   "execution_count": null,
   "id": "b67c2420-fa73-4307-bfb1-07b65a5080c4",
   "metadata": {},
   "outputs": [],
   "source": [
    "params, covar = optimize.curve_fit(f,theta_rad,a,(4.,2.,0.),sigma=a_err)"
   ]
  },
  {
   "cell_type": "code",
   "execution_count": null,
   "id": "d7adb352-291e-4c53-a67b-e0da268b39c1",
   "metadata": {},
   "outputs": [],
   "source": [
    "tick_list = np.arange(0,7,1)*np.pi/2.\n",
    "tick_labels = ['0','$\\pi/2$','$\\pi$','$3\\pi/2$','$2\\pi$','$5\\pi/2$','$3\\pi$']"
   ]
  },
  {
   "cell_type": "code",
   "execution_count": null,
   "id": "7a8ccd83-1504-4878-99d8-a0cdfedb941e",
   "metadata": {},
   "outputs": [],
   "source": [
    "fig,ax = plt.subplots()\n",
    "\n",
    "## Plot dati e fit\n",
    "\n",
    "ax.set_xticks(tick_list)\n",
    "ax.set_xticklabels(tick_labels)\n",
    "ax.xaxis.set_minor_locator(MultipleLocator(np.pi/4.))\n",
    "ax.grid(axis='x')\n",
    "\n",
    "ax.set_xlabel(r'$\\theta$ (rad)',fontsize=12)\n",
    "ax.set_ylabel('$a$ (cm)',fontsize=12)\n",
    "\n",
    "ax.errorbar(theta_rad,a,yerr=a_err,c='b',\n",
    "            ls='none',marker='o',ms=2,capsize = 3, capthick = 1,label='Dati')\n",
    "\n",
    "theta_ran = np.arange(0,3*np.pi,0.05)\n",
    "ax.plot(theta_ran,f(theta_ran,*params),c='r',label='Fit')\n",
    "\n",
    "ax.legend(loc='best')"
   ]
  },
  {
   "cell_type": "markdown",
   "id": "cd4163fd-57a0-4248-aa63-b60c3bbb1a02",
   "metadata": {},
   "source": [
    "Concentriamoci su un punto dei dati e del fit"
   ]
  },
  {
   "cell_type": "code",
   "execution_count": null,
   "id": "bb33497a-47f4-4d22-9ff8-e0d9e7d1be27",
   "metadata": {
    "jupyter": {
     "source_hidden": true
    }
   },
   "outputs": [],
   "source": [
    "theta_exp = theta_rad[16]\n",
    "a_exp = a[16]\n",
    "a_err_exp = a_err[16]\n",
    "a_theo = f(theta_exp,*params)"
   ]
  },
  {
   "cell_type": "code",
   "execution_count": null,
   "id": "9c3d8a6c-2d76-464b-9322-950a97d7fe1f",
   "metadata": {
    "jupyter": {
     "source_hidden": true
    }
   },
   "outputs": [],
   "source": [
    "fig,ax = plt.subplots()\n",
    "\n",
    "## Plot dati e fit\n",
    "\n",
    "ax.set_xlim(np.pi-.1,4)\n",
    "ax.set_ylim(2.5,6.5)\n",
    "\n",
    "#ax.set_xticks(tick_list)\n",
    "#ax.set_xticklabels(tick_labels)\n",
    "ax.xaxis.set_minor_locator(MultipleLocator(np.pi/4.))\n",
    "ax.grid(axis='x')\n",
    "\n",
    "ax.set_xlabel(r'$\\theta$ (rad)',fontsize=12)\n",
    "ax.set_ylabel('$a$ (cm)',fontsize=12)\n",
    "\n",
    "ax.errorbar(theta_rad,a,yerr=a_err,c='b',\n",
    "            ls='none',marker='o',ms=5,capsize = 3, capthick = 1,label='Dati')\n",
    "\n",
    "theta_ran = np.arange(3,4.1,0.01)\n",
    "ax.plot(theta_ran,f(theta_ran,*params),c='r',lw=2,label='Fit')\n",
    "ax.scatter(theta_exp,a_theo,c='purple',marker='x',s=60,lw=3,zorder=10)\n",
    "\n",
    "rect = plt.Rectangle((np.pi,3.5), width=.2, height=2.5, clip_on=False,transform=ax.transData,\n",
    "                     facecolor=\"none\",edgecolor='k',zorder=3)\n",
    "ax.add_patch(rect)"
   ]
  },
  {
   "cell_type": "markdown",
   "id": "f63d86ae-95eb-42f9-a6e3-c17608517817",
   "metadata": {},
   "source": [
    "## L'ipotesi nulla\n",
    "Facciamo l'**ipotesi** (ipotesi nulla, $H_0$) che il dato misurato sia ottenuto in maniera casuale da una distribuzione gaussiana centrata nel _valore teorico_ ottenuto dal fit e di deviazione standard pari alla deviazione standard del dato."
   ]
  },
  {
   "cell_type": "code",
   "execution_count": null,
   "id": "402d2a40-338c-42f9-aaf2-632991ed4630",
   "metadata": {
    "jupyter": {
     "source_hidden": true
    }
   },
   "outputs": [],
   "source": [
    "fig,ax = plt.subplots()\n",
    "\n",
    "ax.set_xlim(np.pi-.1,4)\n",
    "ax.set_ylim(2.5,6.5)\n",
    "\n",
    "#ax.set_xticks(tick_list)\n",
    "#ax.set_xticklabels(tick_labels)\n",
    "ax.xaxis.set_minor_locator(MultipleLocator(np.pi/4.))\n",
    "ax.grid(axis='x')\n",
    "\n",
    "ax.set_xlabel(r'$\\theta$ (rad)',fontsize=12)\n",
    "ax.set_ylabel('$a$ (cm)',fontsize=12)\n",
    "\n",
    "ax.errorbar(theta_rad,a,yerr=a_err,c='b',\n",
    "            ls='none',marker='o',ms=5,capsize = 3, capthick = 1,label='Dati')\n",
    "\n",
    "ax.plot(theta_ran,f(theta_ran,*params),c='r',label='Fit')\n",
    "ax.scatter(theta_exp,a_theo,c='purple',marker='x',s=60,lw=3,zorder=10)\n",
    "\n",
    "\n",
    "\n",
    "x1, x2, y1, y2 = np.pi,np.pi+0.2,3.5,6.  # subregion of the original image\n",
    "axins = ax.inset_axes([0.5, 0.1, 0.45, 0.65],\n",
    "    xlim=(x1, x2), ylim=(y1, y2), xticklabels=[], yticklabels=[])\n",
    "ax.indicate_inset_zoom(axins, edgecolor=\"black\")\n",
    "rect = plt.Rectangle((0.49, 0.08), width=.45, height=.65, clip_on=False,transform=ax.transAxes,\n",
    "                     facecolor=\".2\",zorder=3)\n",
    "ax.add_patch(rect)\n",
    "\n",
    "axins.set_xticks([])\n",
    "axins.set_yticks([])\n",
    "\n",
    "\n",
    "axins2 = axins.twiny()\n",
    "axins2.set_xticks([])\n",
    "xins2_min, xins2_max = x1-theta_exp,x2-theta_exp\n",
    "axins2.set_xlim(xins2_min, xins2_max)\n",
    "axins2.axvline(0.5,c='k',lw=1)\n",
    "#axins.errorbar(theta_rad,a,yerr=a_err,c='b',\n",
    "#            ls='none',marker='o',ms=2,capsize = 3, capthick = 1,label='Dati')\n",
    "\n",
    "axins.plot(theta_ran,f(theta_ran,*params),c='r',alpha=0.3)\n",
    "\n",
    "\n",
    "\n",
    "normalize = xins2_max/norm.pdf(a_theo,a_theo,a_err_exp)/1.1\n",
    "yran = np.linspace(3.5,7,200)\n",
    "axins2.fill_betweenx(yran,norm.pdf(yran,a_theo,a_err_exp)*normalize,color='purple',\n",
    "                     alpha=0.2)\n",
    "axins2.plot(norm.pdf(yran,a_theo,a_err_exp)*normalize,yran,color='purple')\n",
    "axins2.axhline(a_theo,c='purple',zorder=-1)\n",
    "#axins2.axhline(a_exp,c='b',zorder=-1)\n",
    "axins2.axvline(0,c='k',lw=.5,zorder=-1)\n",
    "\n",
    "axins2.scatter(0,a_exp,c='b',zorder=2)\n",
    "axins2.scatter(0,a_theo,c='purple',marker='x',s=80,lw=3,zorder=10)\n",
    "\n",
    "axins2.annotate('',(norm.pdf(a_theo-a_err_exp,a_theo,a_err_exp)*normalize,a_theo-a_err_exp),\n",
    "               ((norm.pdf(a_theo+a_err_exp,a_theo,a_err_exp)*normalize),a_theo+a_err_exp),\n",
    "               arrowprops=dict(arrowstyle=\"|-|\",color='b',lw=1.5))"
   ]
  },
  {
   "cell_type": "markdown",
   "id": "8356730c-bab6-491f-81ab-0a2d79756191",
   "metadata": {},
   "source": [
    "- La somma dei residui ridotti di tutti i punti\n",
    "$$\n",
    "z=\\sum_{i=1}^n\\overline{res}_i=\\sum_{i=1}^n \\frac{a_i-f(\\theta_i)}{\\sigma_i}\n",
    "$$\n",
    "è distribuita come una gaussiana.\n",
    "\n",
    "- La somma dei **quadrati** dei residui ridotti\n",
    "$$\n",
    "\\chi^2_o=\\sum_{i=1}^n\\overline{res}^2_i=\\sum_{i=1}^n\\left[\\frac{a_i-f(\\theta_i)}{\\sigma_i}\\right]^2\n",
    "$$\n",
    "è una variabile casuale che segue una distribuzione **chi-quadro**."
   ]
  },
  {
   "cell_type": "markdown",
   "id": "c568edca-a81d-4560-98a7-15a57da8d8ec",
   "metadata": {},
   "source": [
    "Per il nostro fit:"
   ]
  },
  {
   "cell_type": "code",
   "execution_count": null,
   "id": "f047698e-1e9b-47e9-b383-08b508064e45",
   "metadata": {},
   "outputs": [],
   "source": [
    "chisq_o= np.sum(((a-f(theta_rad,*params))/a_err)**2)\n",
    "print(chisq_o)"
   ]
  },
  {
   "cell_type": "markdown",
   "id": "8d3bed03-b437-4d24-99ef-7468b9e8db6f",
   "metadata": {},
   "source": [
    "Il **numero di gradi di libertà** nel caso di un fit dipende dal **numero di parametri stimati** dai dati"
   ]
  },
  {
   "cell_type": "code",
   "execution_count": null,
   "id": "141d3508-e7f2-4731-b192-a6efe1025d03",
   "metadata": {},
   "outputs": [],
   "source": [
    "N = len(a)-len(params)\n",
    "print(N)"
   ]
  },
  {
   "cell_type": "code",
   "execution_count": null,
   "id": "3366a88a-85a5-49b6-9338-7097ff908dca",
   "metadata": {},
   "outputs": [],
   "source": [
    "chiran = np.arange(0,100,0.1)"
   ]
  },
  {
   "cell_type": "code",
   "execution_count": null,
   "id": "9b045973-2a76-487b-9d30-dab19e797814",
   "metadata": {},
   "outputs": [],
   "source": [
    "fig,ax = plt.subplots()\n",
    "\n",
    "\n",
    "ax.set_xlim(10,90)\n",
    "ax.set_xlabel('$\\chi^2$',fontsize=12)\n",
    "ax.set_ylabel('PDF($\\chi^2$)',fontsize=12)\n",
    "\n",
    "ax.plot(chiran,chi2.pdf(chiran,N),c=colors[2],lw=2,label='PDF($\\chi^2;N$)')\n",
    "ax.plot([chisq_o,chisq_o],[0,chi2.pdf(chisq_o,N)],c=colors[2])\n",
    "\n",
    "\n",
    "ax.axhline(0,c='k',lw=.5)\n",
    "ax.annotate(r'$\\chi^2_o$',(chisq_o+1,0.01),fontsize=12)\n",
    "\n",
    "ax.legend(loc='upper right',fontsize=12)"
   ]
  },
  {
   "cell_type": "code",
   "execution_count": null,
   "id": "32bfaf1a-131a-4377-8267-b87b4ecc68a7",
   "metadata": {},
   "outputs": [],
   "source": [
    "fig,ax = plt.subplots()\n",
    "\n",
    "\n",
    "ax.set_xlim(10,90)\n",
    "ax.set_xlabel('$\\chi^2$',fontsize=12)\n",
    "ax.set_ylabel('PDF($\\chi^2$)',fontsize=12)\n",
    "\n",
    "ax.plot(chiran,chi2.pdf(chiran,N),c=colors[2],lw=2)\n",
    "\n",
    "chiran2 = np.linspace(chisq_o,100,200)\n",
    "ax.fill_between(chiran2,chi2.pdf(chiran2,N),facecolor=colors[2],alpha=.4)\n",
    "\n",
    "ax.plot([chisq_o,chisq_o],[0,chi2.pdf(chisq_o,N)],c=colors[2])\n",
    "\n",
    "ax.annotate(r'$\\chi^2_o$',(chisq_o+1,0.01),fontsize=12)\n",
    "ax.annotate(r\"$P(\\chi^2\\geq\\chi^2_o)$\",(50,0.02),(60,0.03),arrowprops=dict(arrowstyle=\"-\"),fontsize=12)\n",
    "\n",
    "ax.axhline(0,c='k',lw=.5)\n",
    "#ax.legend(loc='upper right')"
   ]
  },
  {
   "cell_type": "markdown",
   "id": "17dac044-ba48-4767-9d46-b1a0a7cbd254",
   "metadata": {},
   "source": [
    "La probabilità di ottenere un valore di $\\chi^2$ maggiore o uguale a quello osservato è\n",
    "\\begin{align}\n",
    "P(\\chi^2\\geq\\chi^2_o)&=\\int_{\\chi^2_o}^{+\\infty}\\textup{PDF}(\\chi^2)d\\chi^2\\\\\n",
    "&=1-\\int_{-\\infty}^{\\chi^2_o}\\textup{PDF}(\\chi^2)d\\chi^2\\\\\n",
    "&=1-\\textup{CDF}(\\chi^2_o)\n",
    "\\end{align}"
   ]
  },
  {
   "cell_type": "markdown",
   "id": "d0f5bcbd-b2c7-4168-bd18-200b964f1c08",
   "metadata": {},
   "source": [
    "Se la funzione che descrive il fenomeno fisico che stiamo studiando è davvero $f(\\theta)$ con i parametri `params`, allora abbiamo una probabilità $P(\\chi^2\\geq\\chi^2_o)$ di ottenere dei dati sperimentali con un accordo _uguale_ o _peggiore_ del nostro.\n",
    "\n",
    "- Se la probabilità $P(\\chi^2\\geq\\chi^2_o)$ è **alta**, significa che _statisticamente_ è molto probabile ottenere dei dati come i nostri dalla funzione $f(\\theta, params)$. La funzione $f(\\theta)$ con i parametri `params` ottenuti descrive bene i dati.\n",
    "- Se la probabilità $P(\\chi^2\\geq\\chi^2_o)$ è **bassa**, significa che _statisticamente_ è molto difficile ottenere dei dati come i nostri dalla funzione $f(\\theta, params)$. La funzione $f(\\theta)$ con i parametri `params` ottenuti _non_ descrive bene i dati."
   ]
  },
  {
   "cell_type": "code",
   "execution_count": null,
   "id": "696c96af-4802-40bc-b226-4db29f842127",
   "metadata": {},
   "outputs": [],
   "source": [
    "Pchisq_o = 1.-chi2.cdf(chisq_o,N)\n",
    "print(Pchisq_o)"
   ]
  },
  {
   "cell_type": "markdown",
   "id": "35da05ea-a427-46f0-a63a-02b7a418ce0d",
   "metadata": {},
   "source": [
    "Si fissa un **livello di significatività** $\\alpha$:\n",
    "- $P(\\chi^2\\geq\\chi^2_o)<\\alpha$: $f(\\theta)$ con `params` **non** descrive bene i dati:\n",
    "\n",
    "  Rigettiamo l'ipotesi che i dati siano descritti da $f(\\theta,params)$"
   ]
  },
  {
   "cell_type": "markdown",
   "id": "f6ef114f-7721-45ad-92f7-a537cebac23c",
   "metadata": {},
   "source": [
    "# Test di modelli"
   ]
  },
  {
   "cell_type": "markdown",
   "id": "ec6c45c1-ceb0-4faa-881a-832dbd4768ae",
   "metadata": {},
   "source": [
    "Una serie di esperimenti ha permesso di ottenere i dati, con errore, nel file `./data/misure.csv`:"
   ]
  },
  {
   "cell_type": "code",
   "execution_count": null,
   "id": "67bfb4b5-5c41-4b29-bd9d-8fced3d233f3",
   "metadata": {},
   "outputs": [],
   "source": [
    "x,y,y_err = np.loadtxt('./data/misure.csv',delimiter=',',skiprows=1,unpack=True)\n",
    "\n",
    "fig,ax = plt.subplots()\n",
    "\n",
    "ax.set_xlabel(r'x ()',fontsize=12)\n",
    "ax.set_ylabel('y ()',fontsize=12)\n",
    "\n",
    "ax.errorbar(x,y,yerr=y_err,c='b',\n",
    "            ls='none',marker='o',ms=3,capsize = 4, capthick = 1,label='Dati')\n",
    "\n",
    "ax.legend(loc='best')"
   ]
  },
  {
   "cell_type": "markdown",
   "id": "ac6ad565-f695-4438-be8b-dc3534548cd6",
   "metadata": {},
   "source": [
    "Quale funzione rappresenta il **modello** migliore per descrivere i dati?\n",
    "\n",
    "1) Ottenere il fit dei dati, con errore, usando una **retta** e una **parabola**.<br>\n",
    "   Per fit polinomiali, può essere più conveniente usare la funzione `np.polyfit()` di `numpy`.\n",
    "3) Valutare la distribuzione dei residui.\n",
    "4) Calcolare il $\\chi^2_o$ nei due casi. Quanti sono i **gradi di libertà**?\n",
    "5) Qual è, nei due casi, $P(\\chi^2\\geq\\chi^2_o)$?\n",
    "6) Se fissiamo il **livello di significatività** $\\alpha=0.05$, a quali conclusioni arriviamo?"
   ]
  },
  {
   "cell_type": "code",
   "execution_count": null,
   "id": "42c5c1cc-8324-4c65-acc3-806083c0c366",
   "metadata": {},
   "outputs": [],
   "source": []
  }
 ],
 "metadata": {
  "kernelspec": {
   "display_name": "Python 3 (ipykernel)",
   "language": "python",
   "name": "python3"
  },
  "language_info": {
   "codemirror_mode": {
    "name": "ipython",
    "version": 3
   },
   "file_extension": ".py",
   "mimetype": "text/x-python",
   "name": "python",
   "nbconvert_exporter": "python",
   "pygments_lexer": "ipython3",
   "version": "3.11.8"
  },
  "widgets": {
   "application/vnd.jupyter.widget-state+json": {
    "state": {},
    "version_major": 2,
    "version_minor": 0
   }
  }
 },
 "nbformat": 4,
 "nbformat_minor": 5
}
